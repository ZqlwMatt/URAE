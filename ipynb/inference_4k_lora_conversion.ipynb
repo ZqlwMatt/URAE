{
 "cells": [
  {
   "cell_type": "code",
   "execution_count": null,
   "metadata": {},
   "outputs": [],
   "source": [
    "import os\n",
    "import torch\n",
    "from huggingface_hub import hf_hub_download\n",
    "from pipeline_flux import FluxPipeline\n",
    "from transformer_flux import FluxTransformer2DModel\n",
    "from patch_conv import convert_model"
   ]
  },
  {
   "cell_type": "code",
   "execution_count": null,
   "metadata": {},
   "outputs": [],
   "source": [
    "bfl_repo=\"black-forest-labs/FLUX.1-dev\"\n",
    "device = torch.device('cuda')\n",
    "dtype = torch.bfloat16\n",
    "transformer = FluxTransformer2DModel.from_pretrained(bfl_repo, subfolder=\"transformer\", torch_dtype=dtype)\n",
    "pipe = FluxPipeline.from_pretrained(bfl_repo, transformer=transformer, torch_dtype=dtype)\n",
    "pipe.scheduler.config.use_dynamic_shifting = False\n",
    "pipe.scheduler.config.time_shift = 10\n",
    "pipe.enable_model_cpu_offload()"
   ]
  },
  {
   "cell_type": "code",
   "execution_count": null,
   "metadata": {},
   "outputs": [],
   "source": [
    "if not os.path.exists('ckpt/urae_4k_adapter_lora_conversion_dev.safetensors'):\n",
    "    hf_hub_download(repo_id=\"Huage001/URAE\", filename='urae_4k_adapter_lora_conversion_dev.safetensors', local_dir='ckpt', local_dir_use_symlinks=False)\n",
    "pipe.load_lora_weights(\"ckpt/urae_4k_adapter_lora_conversion_dev.safetensors\")"
   ]
  },
  {
   "cell_type": "markdown",
   "metadata": {},
   "source": [
    "* Use patch-wise convolution for VAE to avoid OOM error when decoding\n",
    "* If still OOM, try replacing the following line with `pipe.vae.enable_tiling()`"
   ]
  },
  {
   "cell_type": "code",
   "execution_count": null,
   "metadata": {},
   "outputs": [],
   "source": [
    "pipe.vae = convert_model(pipe.vae, splits=4)"
   ]
  },
  {
   "cell_type": "code",
   "execution_count": null,
   "metadata": {},
   "outputs": [],
   "source": [
    "prompt = \"A serene woman in a flowing azure dress, gracefully perched on a sunlit cliff overlooking a tranquil sea, her hair gently tousled by the breeze. The scene is infused with a sense of peace, evoking a dreamlike atmosphere, reminiscent of Impressionist paintings.\"\n",
    "height = 4096\n",
    "width = 4096\n",
    "image = pipe(\n",
    "    prompt,\n",
    "    height=height,\n",
    "    width=width,\n",
    "    guidance_scale=3.5,\n",
    "    num_inference_steps=28,\n",
    "    max_sequence_length=512,\n",
    "    generator=torch.manual_seed(0),\n",
    "    ntk_factor=10,\n",
    "    proportional_attention=True\n",
    ").images[0]\n",
    "image"
   ]
  }
 ],
 "metadata": {
  "kernelspec": {
   "display_name": "Python 3 (ipykernel)",
   "language": "python",
   "name": "python3"
  },
  "language_info": {
   "codemirror_mode": {
    "name": "ipython",
    "version": 3
   },
   "file_extension": ".py",
   "mimetype": "text/x-python",
   "name": "python",
   "nbconvert_exporter": "python",
   "pygments_lexer": "ipython3",
   "version": "3.12.9"
  }
 },
 "nbformat": 4,
 "nbformat_minor": 2
}
