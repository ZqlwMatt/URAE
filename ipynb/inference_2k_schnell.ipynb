{
 "cells": [
  {
   "cell_type": "code",
   "execution_count": null,
   "metadata": {},
   "outputs": [],
   "source": [
    "import os\n",
    "import torch\n",
    "from huggingface_hub import hf_hub_download\n",
    "from pipeline_flux import FluxPipeline\n",
    "from transformer_flux import FluxTransformer2DModel"
   ]
  },
  {
   "cell_type": "code",
   "execution_count": null,
   "metadata": {},
   "outputs": [],
   "source": [
    "bfl_repo=\"black-forest-labs/FLUX.1-schnell\"\n",
    "device = torch.device('cuda')\n",
    "dtype = torch.bfloat16\n",
    "transformer = FluxTransformer2DModel.from_pretrained(bfl_repo, subfolder=\"transformer\", torch_dtype=dtype)\n",
    "pipe = FluxPipeline.from_pretrained(bfl_repo, transformer=None, torch_dtype=dtype)\n",
    "pipe.transformer = transformer\n",
    "pipe.scheduler.config.use_dynamic_shifting = False\n",
    "pipe.scheduler.config.time_shift = 10\n",
    "pipe = pipe.to(device)"
   ]
  },
  {
   "cell_type": "code",
   "execution_count": null,
   "metadata": {},
   "outputs": [],
   "source": [
    "if not os.path.exists('ckpt/urae_2k_adapter.safetensors'):\n",
    "    hf_hub_download(repo_id=\"Huage001/URAE\", filename='urae_2k_adapter.safetensors', local_dir='ckpt', local_dir_use_symlinks=False)\n",
    "pipe.load_lora_weights(\"ckpt/urae_2k_adapter.safetensors\")"
   ]
  },
  {
   "cell_type": "code",
   "execution_count": null,
   "metadata": {},
   "outputs": [],
   "source": [
    "prompt = \"A serene woman in a flowing azure dress, gracefully perched on a sunlit cliff overlooking a tranquil sea, her hair gently tousled by the breeze. The scene is infused with a sense of peace, evoking a dreamlike atmosphere, reminiscent of Impressionist paintings.\"\n",
    "height = 2048\n",
    "width = 2048\n",
    "image = pipe(\n",
    "    prompt,\n",
    "    height=height,\n",
    "    width=width,\n",
    "    guidance_scale=0,\n",
    "    num_inference_steps=4,\n",
    "    max_sequence_length=256,\n",
    "    generator=torch.manual_seed(8888),\n",
    "    ntk_factor=10,\n",
    "    proportional_attention=True\n",
    ").images[0]\n",
    "image"
   ]
  }
 ],
 "metadata": {
  "kernelspec": {
   "display_name": "Python 3 (ipykernel)",
   "language": "python",
   "name": "python3"
  }
 },
 "nbformat": 4,
 "nbformat_minor": 2
}
